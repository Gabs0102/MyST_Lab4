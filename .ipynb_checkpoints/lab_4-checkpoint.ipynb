{
 "cells": [
  {
   "cell_type": "markdown",
   "id": "93ad87c0",
   "metadata": {},
   "source": [
    "<center><font color=#555555><font size=6> MAF1731 - Microstructure and Trading Systems </font> <br> <br>\n",
    "    \n",
    "<center><font color=#555555><font size=5> B.Eng Financial Engineering </font> <br> <br> <br> <br> \n",
    "\n",
    "<center><font color=#555555><font size=5> I.F. Gabriela Ivonne Montoya Ortiz </font> <br> <br>\n",
    "    \n",
    "<space>    \n",
    "\n",
    "<center> <font color= #555555> <font size = 31> April 2023 </a> | <font color= #555555> <font size = 4> Repository: <a href='https://github.com/Gabs0102/MyST_Lab4.git'>Link</a></font>"
   ]
  },
  {
   "cell_type": "markdown",
   "id": "cd518e81",
   "metadata": {},
   "source": [
    "<hr style=\"border:0.02in solid gray\"> </hr>"
   ]
  },
  {
   "cell_type": "markdown",
   "id": "2f9cac99",
   "metadata": {},
   "source": [
    "<center> <font color= #555555> <font size = 6> Lab 4 </font> <br> <br> <font color= #555555> <font size = 5> Microestructura del mercado</font>"
   ]
  },
  {
   "cell_type": "markdown",
   "id": "e71e6219",
   "metadata": {},
   "source": [
    "<font color= #6B6B6B> <font size = 3>  Include here a description of the whole work, use no more than 400 words, you can use **Bold** and *Italic* highlights, also you can inclue [links](www.iteso.mx). Usually is a good strategy to generate this text at the very end of the process, since you have to include all aspects of the work, from a brief introduction, to problem definitions and methods used, to finally the results found. </font>"
   ]
  },
  {
   "cell_type": "code",
   "execution_count": null,
   "id": "df0c2287",
   "metadata": {},
   "outputs": [],
   "source": []
  }
 ],
 "metadata": {
  "kernelspec": {
   "display_name": "Python 3 (ipykernel)",
   "language": "python",
   "name": "python3"
  },
  "language_info": {
   "codemirror_mode": {
    "name": "ipython",
    "version": 3
   },
   "file_extension": ".py",
   "mimetype": "text/x-python",
   "name": "python",
   "nbconvert_exporter": "python",
   "pygments_lexer": "ipython3",
   "version": "3.9.7"
  },
  "vscode": {
   "interpreter": {
    "hash": "31f2aee4e71d21fbe5cf8b01ff0e069b9275f58929596ceb00d14d90e3e16cd6"
   }
  }
 },
 "nbformat": 4,
 "nbformat_minor": 5
}
