{
 "cells": [
  {
   "cell_type": "markdown",
   "id": "cbc7a6fb",
   "metadata": {},
   "source": [
    "<center><font color=#555555><font size=6> MAF1731 - Microstructure and Trading Systems </font> <br> <br>\n",
    "    \n",
    "<center><font color=#555555><font size=5> B.Eng Financial Engineering </font> <br> <br> <br> <br> \n",
    "\n",
    "<center><font color=#555555><font size=5> I.F. Gabriela Ivonne Montoya Ortiz </font> <br> <br>\n",
    "    \n",
    "<space>    \n",
    "\n",
    "<center> <font color= #555555> <font size = 31> April 2023 </a> | <font color= #555555> <font size = 4> Repository: <a href='https://github.com/Gabs0102/MyST_Lab4.git'>Link</a></font>"
   ]
  },
  {
   "cell_type": "markdown",
   "id": "c549b820",
   "metadata": {},
   "source": [
    "<hr style=\"border:0.02in solid gray\"> </hr>"
   ]
  },
  {
   "cell_type": "markdown",
   "id": "f2a4963f",
   "metadata": {},
   "source": [
    "<center> <font color= #555555> <font size = 6> Lab 4 </font> <br> <br> <font color= #555555> <font size = 5> Microestructura del mercado</font>"
   ]
  },
  {
   "cell_type": "markdown",
   "id": "742a34a7",
   "metadata": {},
   "source": [
    "# <font color= #6B6B6B> <font size = 6> 1. Introduction </font>"
   ]
  },
  {
   "cell_type": "markdown",
   "id": "b427c7a7",
   "metadata": {},
   "source": [
    "<hr style=\"border:0.02in solid gray\"> </hr>"
   ]
  },
  {
   "cell_type": "markdown",
   "id": "527283b0",
   "metadata": {},
   "source": []
  },
  {
   "cell_type": "markdown",
   "id": "ce0f12d5",
   "metadata": {},
   "source": [
    "# <font color= #6B6B6B> 2. Objetivo </font>"
   ]
  },
  {
   "cell_type": "markdown",
   "id": "9aac8013",
   "metadata": {},
   "source": [
    "<hr style=\"border:0.02in solid gray\"> </hr>"
   ]
  },
  {
   "cell_type": "markdown",
   "id": "fe2f56b0",
   "metadata": {},
   "source": []
  },
  {
   "cell_type": "markdown",
   "id": "388d95ae",
   "metadata": {},
   "source": [
    "# <font color= #6B6B6B> 2. Datos utilizados</font>"
   ]
  },
  {
   "cell_type": "markdown",
   "id": "20f0286c",
   "metadata": {},
   "source": [
    "<hr style=\"border:0.02in solid gray\"> </hr>"
   ]
  },
  {
   "cell_type": "code",
   "execution_count": 4,
   "id": "ce49c6d9",
   "metadata": {},
   "outputs": [],
   "source": [
    "%%capture\n",
    "# Install all the pip packages in the requirements.txt\n",
    "import sys\n",
    "!{sys.executable} -m pip install -r requirements.txt"
   ]
  },
  {
   "cell_type": "markdown",
   "id": "53745488",
   "metadata": {},
   "source": [
    "# <font color= #6B6B6B> 2. Proceso</font>"
   ]
  },
  {
   "cell_type": "markdown",
   "id": "6cb43029",
   "metadata": {},
   "source": [
    "<hr style=\"border:0.02in solid gray\"> </hr>"
   ]
  },
  {
   "cell_type": "code",
   "execution_count": null,
   "id": "a5c141f9",
   "metadata": {},
   "outputs": [],
   "source": []
  },
  {
   "cell_type": "markdown",
   "id": "6458386a",
   "metadata": {},
   "source": [
    "# <font color= #6B6B6B> 2. Conclusiones</font>"
   ]
  },
  {
   "cell_type": "markdown",
   "id": "9a595eb4",
   "metadata": {},
   "source": [
    "<hr style=\"border:0.02in solid gray\"> </hr>"
   ]
  },
  {
   "cell_type": "code",
   "execution_count": null,
   "id": "9cf415f4",
   "metadata": {},
   "outputs": [],
   "source": []
  }
 ],
 "metadata": {
  "kernelspec": {
   "display_name": "Python 3 (ipykernel)",
   "language": "python",
   "name": "python3"
  },
  "language_info": {
   "codemirror_mode": {
    "name": "ipython",
    "version": 3
   },
   "file_extension": ".py",
   "mimetype": "text/x-python",
   "name": "python",
   "nbconvert_exporter": "python",
   "pygments_lexer": "ipython3",
   "version": "3.9.7"
  },
  "vscode": {
   "interpreter": {
    "hash": "31f2aee4e71d21fbe5cf8b01ff0e069b9275f58929596ceb00d14d90e3e16cd6"
   }
  }
 },
 "nbformat": 4,
 "nbformat_minor": 5
}
