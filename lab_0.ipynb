{
 "cells": [
  {
   "cell_type": "code",
   "execution_count": 3,
   "id": "9e8e10e2",
   "metadata": {},
   "outputs": [
    {
     "name": "stdout",
     "output_type": "stream",
     "text": [
      "     sepal_lenght  sepal_width  petal_lenght  petal_width\n",
      "0             5.1          3.5           1.4          0.2\n",
      "1             4.9          3.0           1.4          0.2\n",
      "2             4.7          3.2           1.3          0.2\n",
      "3             4.6          3.1           1.5          0.2\n",
      "4             5.0          3.6           1.4          0.2\n",
      "..            ...          ...           ...          ...\n",
      "145           6.7          3.0           5.2          2.3\n",
      "146           6.3          2.5           5.0          1.9\n",
      "147           6.5          3.0           5.2          2.0\n",
      "148           6.2          3.4           5.4          2.3\n",
      "149           5.9          3.0           5.1          1.8\n",
      "\n",
      "[150 rows x 4 columns]\n"
     ]
    }
   ],
   "source": [
    "import funtions as fn\n",
    "from data import df"
   ]
  },
  {
   "cell_type": "code",
   "execution_count": 4,
   "id": "a34bf5a4",
   "metadata": {},
   "outputs": [
    {
     "name": "stdout",
     "output_type": "stream",
     "text": [
      "     sepal_lenght  sepal_width  petal_lenght  petal_width    mean_1  add_value\n",
      "0             5.1          3.5           1.4          0.2 -0.743333        8.1\n",
      "1             4.9          3.0           1.4          0.2 -0.943333        7.9\n",
      "2             4.7          3.2           1.3          0.2 -1.143333        7.7\n",
      "3             4.6          3.1           1.5          0.2 -1.243333        7.6\n",
      "4             5.0          3.6           1.4          0.2 -0.843333        8.0\n",
      "..            ...          ...           ...          ...       ...        ...\n",
      "145           6.7          3.0           5.2          2.3  0.856667        9.7\n",
      "146           6.3          2.5           5.0          1.9  0.456667        9.3\n",
      "147           6.5          3.0           5.2          2.0  0.656667        9.5\n",
      "148           6.2          3.4           5.4          2.3  0.356667        9.2\n",
      "149           5.9          3.0           5.1          1.8  0.056667        8.9\n",
      "\n",
      "[150 rows x 6 columns]\n"
     ]
    }
   ],
   "source": [
    "df.loc[:,'mean_1'] = fn.remove_mean(df.iloc[:,0])\n",
    "df.loc[:,'add_value'] = fn.add_number(df.iloc[:,0],3)\n",
    "\n",
    "print(df)"
   ]
  },
  {
   "cell_type": "code",
   "execution_count": null,
   "id": "2fe2a954",
   "metadata": {},
   "outputs": [],
   "source": []
  }
 ],
 "metadata": {
  "kernelspec": {
   "display_name": "Python 3 (ipykernel)",
   "language": "python",
   "name": "python3"
  },
  "language_info": {
   "codemirror_mode": {
    "name": "ipython",
    "version": 3
   },
   "file_extension": ".py",
   "mimetype": "text/x-python",
   "name": "python",
   "nbconvert_exporter": "python",
   "pygments_lexer": "ipython3",
   "version": "3.9.7"
  }
 },
 "nbformat": 4,
 "nbformat_minor": 5
}
