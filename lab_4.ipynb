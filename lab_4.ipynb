{
 "cells": [
  {
   "attachments": {},
   "cell_type": "markdown",
   "id": "7a32844b",
   "metadata": {},
   "source": [
    "<center><font color=#555555><font size=6> MAF1731 - Microstructure and Trading Systems </font> <br> <br>\n",
    "    \n",
    "<center><font color=#555555><font size=5> B.Eng Financial Engineering </font> <br> <br> <br> <br> \n",
    "\n",
    "<center><font color=#555555><font size=5> I.F. Gabriela Ivonne Montoya Ortiz, Aniel Esthefania Villanueva Mendoza </font> <br> <br>\n",
    "    \n",
    "<space>    \n",
    "\n",
    "<center> <font color= #555555> <font size = 31> April 2023 </a> | <font color= #555555> <font size = 4> Repository: <a href='https://github.com/Gabs0102/MyST_Lab4.git'>Link</a></font>"
   ]
  },
  {
   "cell_type": "markdown",
   "id": "76f8ed98",
   "metadata": {},
   "source": [
    "<hr style=\"border:0.02in solid gray\"> </hr>"
   ]
  },
  {
   "cell_type": "markdown",
   "id": "d42c8f16",
   "metadata": {},
   "source": [
    "<center> <font color= #555555> <font size = 6> Lab 4 </font> <br> <br> <font color= #555555> <font size = 5> Microestructura del mercado</font>"
   ]
  },
  {
   "cell_type": "markdown",
   "id": "b1087782",
   "metadata": {},
   "source": [
    "# <font color= #6B6B6B> <font size = 6> 1. Introduction </font>"
   ]
  },
  {
   "cell_type": "markdown",
   "id": "c98d342b",
   "metadata": {},
   "source": [
    "<hr style=\"border:0.02in solid gray\"> </hr>"
   ]
  },
  {
   "cell_type": "markdown",
   "id": "0bfaf1dc",
   "metadata": {},
   "source": [
    "El modelo de Roll es una teoría financiera que se utiliza para predecir el precio de las acciones. Esta teoría se basa en dos conceptos clave: el valor fundamental de una acción y su precio de transacción en el mercado. El valor fundamental de una acción se refiere al valor presente de los flujos de efectivo futuros que se esperan y serán duraderos, mientras que el precio de transacción es el precio real al que se negocia la acción en el mercado.\n",
    "\n",
    "El modelo de Roll utiliza dos parámetros para estimar el precio de las acciones, C y σ2u, que se pueden calcular a partir de la información de la varianza y covarianza de primer orden del cambio de los precios. El modelo consta de tres partes principales: el cálculo de la diferencia de precios en dos momentos diferentes, el cálculo de la multiplicación de las diferencias de precios, y la inclusión de un factor de ruido o aleatoriedad.\n",
    "\n",
    "El modelo de Roll es útil para entender la dinámica del mercado de valores y para predecir los precios futuros de las acciones. Sin embargo, hay que tener en cuenta que el modelo se basa en suposiciones simplificadas y puede no capturar todas las complejidades del mercado."
   ]
  },
  {
   "cell_type": "markdown",
   "id": "f7d54b8f",
   "metadata": {},
   "source": [
    "# <font color= #6B6B6B> 2. Objetivo </font>"
   ]
  },
  {
   "cell_type": "markdown",
   "id": "dde19646",
   "metadata": {},
   "source": [
    "<hr style=\"border:0.02in solid gray\"> </hr>"
   ]
  },
  {
   "cell_type": "markdown",
   "id": "c9cecaf7",
   "metadata": {},
   "source": [
    "El objetivo de este laboratorio es visualizar y modelar la microestructura del mercado utilizando datos del libro de ordenes de criptomonedas con diferentes exchanges internacionales. Este estudio se centra en analizar elementos como el Matching Engiene, Levels, Ask-Bid volumes, entre otros. Ademas, se explorará el modelo de Roll, el cual se utiliza para entender cómo el volumen de transacciones afecta los precios de los activos en el mercado. "
   ]
  },
  {
   "cell_type": "markdown",
   "id": "ffa6c401",
   "metadata": {},
   "source": [
    "# <font color= #6B6B6B> 3. Datos utilizados</font>"
   ]
  },
  {
   "cell_type": "markdown",
   "id": "16e1e327",
   "metadata": {},
   "source": [
    "<hr style=\"border:0.02in solid gray\"> </hr>"
   ]
  },
  {
   "cell_type": "code",
   "execution_count": 4,
   "id": "9f9f7562",
   "metadata": {},
   "outputs": [],
   "source": [
    "%%capture\n",
    "# Install all the pip packages in the requirements.txt\n",
    "import sys\n",
    "!{sys.executable} -m pip install -r requirements.txt"
   ]
  },
  {
   "cell_type": "code",
   "execution_count": null,
   "id": "e2483404",
   "metadata": {},
   "outputs": [],
   "source": [
    "import pandas as pd\n",
    "import numpy as np \n",
    "import main \n",
    "from visualizations import graficas"
   ]
  },
  {
   "cell_type": "code",
   "execution_count": null,
   "id": "9c648f0a",
   "metadata": {},
   "outputs": [],
   "source": []
  },
  {
   "cell_type": "markdown",
   "id": "96a7981f",
   "metadata": {},
   "source": [
    "# <font color= #6B6B6B> 4. Proceso</font>"
   ]
  },
  {
   "cell_type": "markdown",
   "id": "8da09571",
   "metadata": {},
   "source": [
    "<hr style=\"border:0.02in solid gray\"> </hr>"
   ]
  },
  {
   "cell_type": "code",
   "execution_count": null,
   "id": "9a5adeb7",
   "metadata": {},
   "outputs": [],
   "source": [
    "# Se leen los archivos csv\n",
    "data_symbolo1 = pd.read_csv(r'files\\orderbooks_27abr.csv')\n",
    "data_symbolo2 = pd.read_csv(r'files\\orderbooks_27_2abr.csv')"
   ]
  },
  {
   "cell_type": "code",
   "execution_count": null,
   "id": "264723a5",
   "metadata": {},
   "outputs": [],
   "source": [
    "data_symbolo1\n",
    "# Breve descripcion de lo que trae "
   ]
  },
  {
   "cell_type": "code",
   "execution_count": null,
   "id": "7a6b00ff",
   "metadata": {},
   "outputs": [],
   "source": [
    "data_symbolo2"
   ]
  },
  {
   "attachments": {},
   "cell_type": "markdown",
   "id": "a48f1d65",
   "metadata": {},
   "source": [
    "## Visualizations"
   ]
  },
  {
   "cell_type": "code",
   "execution_count": null,
   "id": "f1f4066b",
   "metadata": {},
   "outputs": [],
   "source": [
    "graficas(data_symbolo1.drop(['close_price']),'data_symbolo1')"
   ]
  },
  {
   "cell_type": "code",
   "execution_count": null,
   "id": "daad6119",
   "metadata": {},
   "outputs": [],
   "source": [
    "graficas(data_symbolo2.drop(['close_price'],'data_symbolo2'))"
   ]
  },
  {
   "cell_type": "code",
   "execution_count": null,
   "id": "4f14eca1",
   "metadata": {},
   "outputs": [],
   "source": []
  },
  {
   "attachments": {},
   "cell_type": "markdown",
   "id": "6fcaa72d",
   "metadata": {},
   "source": [
    "## Roll"
   ]
  },
  {
   "cell_type": "code",
   "execution_count": null,
   "id": "c965ab3e",
   "metadata": {},
   "outputs": [],
   "source": []
  },
  {
   "cell_type": "code",
   "execution_count": null,
   "id": "ae8f555f",
   "metadata": {},
   "outputs": [],
   "source": []
  },
  {
   "cell_type": "markdown",
   "id": "dead76f6",
   "metadata": {},
   "source": [
    "# <font color= #6B6B6B> 5. Conclusiones</font>"
   ]
  },
  {
   "cell_type": "markdown",
   "id": "cc2ffbba",
   "metadata": {},
   "source": [
    "<hr style=\"border:0.02in solid gray\"> </hr>"
   ]
  },
  {
   "cell_type": "code",
   "execution_count": null,
   "id": "f80034f5",
   "metadata": {},
   "outputs": [],
   "source": []
  },
  {
   "cell_type": "code",
   "execution_count": null,
   "id": "d8932566",
   "metadata": {},
   "outputs": [],
   "source": []
  }
 ],
 "metadata": {
  "kernelspec": {
   "display_name": "Python 3 (ipykernel)",
   "language": "python",
   "name": "python3"
  },
  "language_info": {
   "codemirror_mode": {
    "name": "ipython",
    "version": 3
   },
   "file_extension": ".py",
   "mimetype": "text/x-python",
   "name": "python",
   "nbconvert_exporter": "python",
   "pygments_lexer": "ipython3",
   "version": "3.8.9"
  },
  "vscode": {
   "interpreter": {
    "hash": "31f2aee4e71d21fbe5cf8b01ff0e069b9275f58929596ceb00d14d90e3e16cd6"
   }
  }
 },
 "nbformat": 4,
 "nbformat_minor": 5
}
