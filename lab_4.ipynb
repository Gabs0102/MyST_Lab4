{
 "cells": [
  {
   "cell_type": "markdown",
   "id": "1c97d8d5",
   "metadata": {},
   "source": [
    "<center><font color=#555555><font size=6> MAF1731 - Microstructure and Trading Systems </font> <br> <br>\n",
    "    \n",
    "<center><font color=#555555><font size=5> B.Eng Financial Engineering </font> <br> <br> <br> <br> \n",
    "\n",
    "<center><font color=#555555><font size=5> I.F. Gabriela Ivonne Montoya Ortiz </font> <br> <br>\n",
    "    \n",
    "<space>    \n",
    "\n",
    "<center> <font color= #555555> <font size = 31> April 2023 </a> | <font color= #555555> <font size = 4> Repository: <a href='https://github.com/Gabs0102/MyST_Lab4.git'>Link</a></font>"
   ]
  },
  {
   "cell_type": "markdown",
   "id": "e2eda10c",
   "metadata": {},
   "source": [
    "<hr style=\"border:0.02in solid gray\"> </hr>"
   ]
  },
  {
   "cell_type": "markdown",
   "id": "014fbea9",
   "metadata": {},
   "source": [
    "<center> <font color= #555555> <font size = 6> Lab 4 </font> <br> <br> <font color= #555555> <font size = 5> Microestructura del mercado</font>"
   ]
  },
  {
   "cell_type": "markdown",
   "id": "5cdce93d",
   "metadata": {},
   "source": [
    "# <font color= #6B6B6B> <font size = 6> 1. Introduction </font>"
   ]
  },
  {
   "cell_type": "markdown",
   "id": "c71ab0e2",
   "metadata": {},
   "source": [
    "<hr style=\"border:0.02in solid gray\"> </hr>"
   ]
  },
  {
   "cell_type": "markdown",
   "id": "399c8a31",
   "metadata": {},
   "source": []
  },
  {
   "cell_type": "markdown",
   "id": "78621823",
   "metadata": {},
   "source": [
    "# <font color= #6B6B6B> 2. Objetivo </font>"
   ]
  },
  {
   "cell_type": "markdown",
   "id": "6896c6a4",
   "metadata": {},
   "source": [
    "<hr style=\"border:0.02in solid gray\"> </hr>"
   ]
  },
  {
   "cell_type": "markdown",
   "id": "c336be0a",
   "metadata": {},
   "source": [
    "El objetivo de este laboratorio es visualizar y modelar la microestructura del mercado utilizando datos del libro de ordenes de criptomonedas con diferentes exchanges internacionales. Este estudio se centra en analizar elementos como el Matching Engiene, Levels, Ask-Bid volumes, entre otros. Ademas, se explorará el modelo de Roll, el cual se utiliza para entender cómo el volumen de transacciones afecta los precios de los activos en el mercado. "
   ]
  },
  {
   "cell_type": "markdown",
   "id": "80ea1142",
   "metadata": {},
   "source": [
    "# <font color= #6B6B6B> 3. Datos utilizados</font>"
   ]
  },
  {
   "cell_type": "markdown",
   "id": "bb02d09a",
   "metadata": {},
   "source": [
    "<hr style=\"border:0.02in solid gray\"> </hr>"
   ]
  },
  {
   "cell_type": "code",
   "execution_count": 4,
   "id": "321bcb0c",
   "metadata": {},
   "outputs": [],
   "source": [
    "%%capture\n",
    "# Install all the pip packages in the requirements.txt\n",
    "import sys\n",
    "!{sys.executable} -m pip install -r requirements.txt"
   ]
  },
  {
   "cell_type": "markdown",
   "id": "e09cbcd9",
   "metadata": {},
   "source": [
    "# <font color= #6B6B6B> 4. Proceso</font>"
   ]
  },
  {
   "cell_type": "markdown",
   "id": "f5509275",
   "metadata": {},
   "source": [
    "<hr style=\"border:0.02in solid gray\"> </hr>"
   ]
  },
  {
   "cell_type": "code",
   "execution_count": null,
   "id": "ad916c2c",
   "metadata": {},
   "outputs": [],
   "source": []
  },
  {
   "cell_type": "markdown",
   "id": "0eed555b",
   "metadata": {},
   "source": [
    "# <font color= #6B6B6B> 5. Conclusiones</font>"
   ]
  },
  {
   "cell_type": "markdown",
   "id": "ffa4ed01",
   "metadata": {},
   "source": [
    "<hr style=\"border:0.02in solid gray\"> </hr>"
   ]
  },
  {
   "cell_type": "code",
   "execution_count": null,
   "id": "bd9a1891",
   "metadata": {},
   "outputs": [],
   "source": []
  }
 ],
 "metadata": {
  "kernelspec": {
   "display_name": "Python 3 (ipykernel)",
   "language": "python",
   "name": "python3"
  },
  "language_info": {
   "codemirror_mode": {
    "name": "ipython",
    "version": 3
   },
   "file_extension": ".py",
   "mimetype": "text/x-python",
   "name": "python",
   "nbconvert_exporter": "python",
   "pygments_lexer": "ipython3",
   "version": "3.9.7"
  },
  "vscode": {
   "interpreter": {
    "hash": "31f2aee4e71d21fbe5cf8b01ff0e069b9275f58929596ceb00d14d90e3e16cd6"
   }
  }
 },
 "nbformat": 4,
 "nbformat_minor": 5
}
